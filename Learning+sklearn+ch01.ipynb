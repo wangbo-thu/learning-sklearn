{
 "cells": [
  {
   "cell_type": "code",
   "execution_count": 1,
   "metadata": {
    "collapsed": true
   },
   "outputs": [],
   "source": [
    "import sklearn as sk\n",
    "import numpy as np\n",
    "import matplotlib.pyplot as plt"
   ]
  },
  {
   "cell_type": "code",
   "execution_count": 2,
   "metadata": {
    "collapsed": true
   },
   "outputs": [],
   "source": [
    "from sklearn import datasets\n",
    "iris = datasets.load_iris()\n",
    "X_iris, y_iris = iris.data, iris.target"
   ]
  },
  {
   "cell_type": "code",
   "execution_count": 3,
   "metadata": {},
   "outputs": [
    {
     "name": "stdout",
     "output_type": "stream",
     "text": [
      "(150, 4) (150,)\n"
     ]
    }
   ],
   "source": [
    "print(X_iris.shape, y_iris.shape)"
   ]
  },
  {
   "cell_type": "code",
   "execution_count": 4,
   "metadata": {},
   "outputs": [
    {
     "name": "stdout",
     "output_type": "stream",
     "text": [
      "[ 5.1  3.5  1.4  0.2] 0\n"
     ]
    }
   ],
   "source": [
    "print(X_iris[0], y_iris[0])"
   ]
  },
  {
   "cell_type": "code",
   "execution_count": 5,
   "metadata": {},
   "outputs": [
    {
     "name": "stderr",
     "output_type": "stream",
     "text": [
      "C:\\ProgramData\\Anaconda3\\lib\\site-packages\\sklearn\\cross_validation.py:44: DeprecationWarning: This module was deprecated in version 0.18 in favor of the model_selection module into which all the refactored classes and functions are moved. Also note that the interface of the new CV iterators are different from that of this module. This module will be removed in 0.20.\n",
      "  \"This module will be removed in 0.20.\", DeprecationWarning)\n"
     ]
    }
   ],
   "source": [
    "from sklearn.cross_validation import train_test_split\n",
    "from sklearn import preprocessing\n",
    "# Get dataset with only the first two attributes\n",
    "X, y = X_iris[:, :2], y_iris\n",
    "# Split the dataset into a training and a testing set\n",
    "# Test set will be the 25% taken randomly\n",
    "X_train, X_test, y_train, y_test = train_test_split(X, y, test_size = 0.25, random_state = 33)"
   ]
  },
  {
   "cell_type": "code",
   "execution_count": 6,
   "metadata": {},
   "outputs": [
    {
     "name": "stdout",
     "output_type": "stream",
     "text": [
      "(112, 2) (112,)\n"
     ]
    }
   ],
   "source": [
    "print(X_train.shape, y_train.shape)"
   ]
  },
  {
   "cell_type": "code",
   "execution_count": 7,
   "metadata": {},
   "outputs": [
    {
     "name": "stdout",
     "output_type": "stream",
     "text": [
      "[[ 5.   2.3]\n",
      " [ 4.9  3.1]\n",
      " [ 6.3  2.3]\n",
      " [ 5.8  2.6]\n",
      " [ 6.2  2.9]\n",
      " [ 4.7  3.2]\n",
      " [ 4.6  3.4]\n",
      " [ 5.1  2.5]\n",
      " [ 4.8  3.4]\n",
      " [ 7.9  3.8]\n",
      " [ 5.1  3.4]\n",
      " [ 5.1  3.7]\n",
      " [ 5.6  2.9]\n",
      " [ 6.5  3. ]\n",
      " [ 5.4  3.9]\n",
      " [ 7.   3.2]\n",
      " [ 5.8  2.8]\n",
      " [ 7.7  2.6]\n",
      " [ 5.5  2.5]\n",
      " [ 5.9  3.2]\n",
      " [ 4.9  3.1]\n",
      " [ 4.5  2.3]\n",
      " [ 6.3  2.8]\n",
      " [ 4.4  2.9]\n",
      " [ 5.   3.6]\n",
      " [ 7.2  3. ]\n",
      " [ 6.   3.4]\n",
      " [ 6.2  2.2]\n",
      " [ 7.4  2.8]\n",
      " [ 6.8  3. ]\n",
      " [ 6.4  2.8]\n",
      " [ 5.7  2.5]\n",
      " [ 5.   3.5]\n",
      " [ 5.1  3.8]\n",
      " [ 6.8  2.8]\n",
      " [ 5.2  2.7]\n",
      " [ 5.1  3.8]\n",
      " [ 5.6  2.5]\n",
      " [ 6.1  3. ]\n",
      " [ 6.6  2.9]\n",
      " [ 6.4  2.8]\n",
      " [ 4.3  3. ]\n",
      " [ 7.2  3.6]\n",
      " [ 5.1  3.5]\n",
      " [ 6.3  2.5]\n",
      " [ 4.4  3.2]\n",
      " [ 7.6  3. ]\n",
      " [ 6.4  3.2]\n",
      " [ 5.1  3.8]\n",
      " [ 6.5  3.2]\n",
      " [ 6.3  2.7]\n",
      " [ 5.   3.5]\n",
      " [ 5.2  3.4]\n",
      " [ 6.4  2.7]\n",
      " [ 5.8  4. ]\n",
      " [ 5.7  4.4]\n",
      " [ 4.6  3.2]\n",
      " [ 6.9  3.1]\n",
      " [ 6.3  2.9]\n",
      " [ 5.5  3.5]\n",
      " [ 5.7  2.6]\n",
      " [ 5.   3.3]\n",
      " [ 6.   2.2]\n",
      " [ 4.9  3. ]\n",
      " [ 5.   2. ]\n",
      " [ 6.6  3. ]\n",
      " [ 5.7  2.8]\n",
      " [ 5.5  2.6]\n",
      " [ 5.5  2.3]\n",
      " [ 4.8  3.1]\n",
      " [ 6.   2.9]\n",
      " [ 5.   3. ]\n",
      " [ 6.9  3.1]\n",
      " [ 6.7  2.5]\n",
      " [ 5.3  3.7]\n",
      " [ 5.2  4.1]\n",
      " [ 5.   3.4]\n",
      " [ 4.6  3.6]\n",
      " [ 7.7  3.8]\n",
      " [ 7.3  2.9]\n",
      " [ 4.6  3.1]\n",
      " [ 5.5  2.4]\n",
      " [ 5.8  2.7]\n",
      " [ 6.7  3.3]\n",
      " [ 5.8  2.7]\n",
      " [ 5.4  3.7]\n",
      " [ 5.   3.4]\n",
      " [ 6.   2.7]\n",
      " [ 5.7  2.8]\n",
      " [ 6.1  2.8]\n",
      " [ 5.1  3.3]\n",
      " [ 5.6  3. ]\n",
      " [ 5.4  3. ]\n",
      " [ 5.4  3.9]\n",
      " [ 6.7  3.3]\n",
      " [ 4.9  2.5]\n",
      " [ 6.2  3.4]\n",
      " [ 5.5  2.4]\n",
      " [ 7.7  2.8]\n",
      " [ 5.4  3.4]\n",
      " [ 6.7  3. ]\n",
      " [ 5.5  4.2]\n",
      " [ 5.   3.2]\n",
      " [ 4.8  3. ]\n",
      " [ 5.8  2.7]\n",
      " [ 5.9  3. ]\n",
      " [ 7.1  3. ]\n",
      " [ 4.9  2.4]\n",
      " [ 6.3  2.5]\n",
      " [ 5.6  3. ]\n",
      " [ 7.7  3. ]\n",
      " [ 5.4  3.4]]\n"
     ]
    }
   ],
   "source": [
    "print(X_train)"
   ]
  },
  {
   "cell_type": "code",
   "execution_count": 8,
   "metadata": {
    "collapsed": true
   },
   "outputs": [],
   "source": [
    "# Standardize the features\n",
    "## ?? 理解preprocessing中的标准化\n",
    "scaler = preprocessing.StandardScaler().fit(X_train)\n",
    "X_train = scaler.transform(X_train)\n",
    "X_test = scaler.transform(X_test)"
   ]
  },
  {
   "cell_type": "code",
   "execution_count": 9,
   "metadata": {},
   "outputs": [
    {
     "name": "stdout",
     "output_type": "stream",
     "text": [
      "[[-0.91090798 -1.59761476]\n",
      " [-1.0271058   0.09442168]\n",
      " [ 0.59966379 -1.59761476]\n",
      " [ 0.01867465 -0.9631011 ]\n",
      " [ 0.48346596 -0.32858743]\n",
      " [-1.25950146  0.30592623]\n",
      " [-1.37569929  0.72893534]\n",
      " [-0.79471015 -1.17460565]\n",
      " [-1.14330363  0.72893534]\n",
      " [ 2.45882905  1.57495356]\n",
      " [-0.79471015  0.72893534]\n",
      " [-0.79471015  1.36344901]\n",
      " [-0.21372101 -0.32858743]\n",
      " [ 0.83205945 -0.11708288]\n",
      " [-0.44611666  1.78645812]\n",
      " [ 1.41304859  0.30592623]\n",
      " [ 0.01867465 -0.54009199]\n",
      " [ 2.22643339 -0.9631011 ]\n",
      " [-0.32991883 -1.17460565]\n",
      " [ 0.13487248  0.30592623]\n",
      " [-1.0271058   0.09442168]\n",
      " [-1.49189712 -1.59761476]\n",
      " [ 0.59966379 -0.54009199]\n",
      " [-1.60809495 -0.32858743]\n",
      " [-0.91090798  1.15194445]\n",
      " [ 1.64544425 -0.11708288]\n",
      " [ 0.25107031  0.72893534]\n",
      " [ 0.48346596 -1.80911932]\n",
      " [ 1.8778399  -0.54009199]\n",
      " [ 1.18065293 -0.11708288]\n",
      " [ 0.71586162 -0.54009199]\n",
      " [-0.09752318 -1.17460565]\n",
      " [-0.91090798  0.9404399 ]\n",
      " [-0.79471015  1.57495356]\n",
      " [ 1.18065293 -0.54009199]\n",
      " [-0.67851232 -0.75159654]\n",
      " [-0.79471015  1.57495356]\n",
      " [-0.21372101 -1.17460565]\n",
      " [ 0.36726814 -0.11708288]\n",
      " [ 0.94825728 -0.32858743]\n",
      " [ 0.71586162 -0.54009199]\n",
      " [-1.72429277 -0.11708288]\n",
      " [ 1.64544425  1.15194445]\n",
      " [-0.79471015  0.9404399 ]\n",
      " [ 0.59966379 -1.17460565]\n",
      " [-1.60809495  0.30592623]\n",
      " [ 2.11023556 -0.11708288]\n",
      " [ 0.71586162  0.30592623]\n",
      " [-0.79471015  1.57495356]\n",
      " [ 0.83205945  0.30592623]\n",
      " [ 0.59966379 -0.75159654]\n",
      " [-0.91090798  0.9404399 ]\n",
      " [-0.67851232  0.72893534]\n",
      " [ 0.71586162 -0.75159654]\n",
      " [ 0.01867465  1.99796267]\n",
      " [-0.09752318  2.84398089]\n",
      " [-1.37569929  0.30592623]\n",
      " [ 1.29685076  0.09442168]\n",
      " [ 0.59966379 -0.32858743]\n",
      " [-0.32991883  0.9404399 ]\n",
      " [-0.09752318 -0.9631011 ]\n",
      " [-0.91090798  0.51743079]\n",
      " [ 0.25107031 -1.80911932]\n",
      " [-1.0271058  -0.11708288]\n",
      " [-0.91090798 -2.23212843]\n",
      " [ 0.94825728 -0.11708288]\n",
      " [-0.09752318 -0.54009199]\n",
      " [-0.32991883 -0.9631011 ]\n",
      " [-0.32991883 -1.59761476]\n",
      " [-1.14330363  0.09442168]\n",
      " [ 0.25107031 -0.32858743]\n",
      " [-0.91090798 -0.11708288]\n",
      " [ 1.29685076  0.09442168]\n",
      " [ 1.06445511 -1.17460565]\n",
      " [-0.56231449  1.36344901]\n",
      " [-0.67851232  2.20946723]\n",
      " [-0.91090798  0.72893534]\n",
      " [-1.37569929  1.15194445]\n",
      " [ 2.22643339  1.57495356]\n",
      " [ 1.76164208 -0.32858743]\n",
      " [-1.37569929  0.09442168]\n",
      " [-0.32991883 -1.38611021]\n",
      " [ 0.01867465 -0.75159654]\n",
      " [ 1.06445511  0.51743079]\n",
      " [ 0.01867465 -0.75159654]\n",
      " [-0.44611666  1.36344901]\n",
      " [-0.91090798  0.72893534]\n",
      " [ 0.25107031 -0.75159654]\n",
      " [-0.09752318 -0.54009199]\n",
      " [ 0.36726814 -0.54009199]\n",
      " [-0.79471015  0.51743079]\n",
      " [-0.21372101 -0.11708288]\n",
      " [-0.44611666 -0.11708288]\n",
      " [-0.44611666  1.78645812]\n",
      " [ 1.06445511  0.51743079]\n",
      " [-1.0271058  -1.17460565]\n",
      " [ 0.48346596  0.72893534]\n",
      " [-0.32991883 -1.38611021]\n",
      " [ 2.22643339 -0.54009199]\n",
      " [-0.44611666  0.72893534]\n",
      " [ 1.06445511 -0.11708288]\n",
      " [-0.32991883  2.42097178]\n",
      " [-0.91090798  0.30592623]\n",
      " [-1.14330363 -0.11708288]\n",
      " [ 0.01867465 -0.75159654]\n",
      " [ 0.13487248 -0.11708288]\n",
      " [ 1.52924642 -0.11708288]\n",
      " [-1.0271058  -1.38611021]\n",
      " [ 0.59966379 -1.17460565]\n",
      " [-0.21372101 -0.11708288]\n",
      " [ 2.22643339 -0.11708288]\n",
      " [-0.44611666  0.72893534]]\n"
     ]
    }
   ],
   "source": [
    "print(X_train)"
   ]
  },
  {
   "cell_type": "code",
   "execution_count": 13,
   "metadata": {},
   "outputs": [
    {
     "data": {
      "text/plain": [
       "<matplotlib.text.Text at 0x21c2f36ad30>"
      ]
     },
     "execution_count": 13,
     "metadata": {},
     "output_type": "execute_result"
    },
    {
     "data": {
      "image/png": "[encoded data removed]",
      "text/plain": [
       "<matplotlib.figure.Figure at 0x21c2e703278>"
      ]
     },
     "metadata": {},
     "output_type": "display_data"
    }
   ],
   "source": [
    "import matplotlib.pyplot as plt\n",
    "%matplotlib inline # 在Jupyter内显示图像\n",
    "colors = ['red', 'greenyellow', 'blue']\n",
    "for i in range(len(colors)):\n",
    "    xs = X_train[:, 0][y_train == i]\n",
    "    ys = X_train[:, 1][y_train == i]\n",
    "    plt.scatter(xs, ys, c = colors[i])\n",
    "plt.legend(iris.target_names)\n",
    "plt.xlabel('Sepal length')\n",
    "plt.ylabel('Sepal width')"
   ]
  },
  {
   "cell_type": "code",
   "execution_count": null,
   "metadata": {
    "collapsed": true
   },
   "outputs": [],
   "source": []
  }
 ],
 "metadata": {
  "anaconda-cloud": {},
  "kernelspec": {
   "display_name": "Python 3",
   "language": "python",
   "name": "python3"
  },
  "language_info": {
   "codemirror_mode": {
    "name": "ipython",
    "version": 3
   },
   "file_extension": ".py",
   "mimetype": "text/x-python",
   "name": "python",
   "nbconvert_exporter": "python",
   "pygments_lexer": "ipython3",
   "version": "3.6.1"
  }
 },
 "nbformat": 4,
 "nbformat_minor": 1
}
