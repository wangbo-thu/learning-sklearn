{
 "cells": [
  {
   "cell_type": "code",
   "execution_count": null,
   "metadata": {
    "collapsed": true,
    "nbpresent": {
     "id": "19aa3280-5119-4ef7-aff7-a5d868e636ba"
    }
   },
   "outputs": [],
   "source": [
    "import sklearn as sk\n",
    "import numpy as np\n",
    "import matplotlib.pyplot as plt"
   ]
  },
  {
   "cell_type": "code",
   "execution_count": null,
   "metadata": {
    "collapsed": true,
    "nbpresent": {
     "id": "ce356927-faeb-4b51-8009-16a417d5f490"
    }
   },
   "outputs": [],
   "source": [
    "from sklearn import datasets\n",
    "iris = datasets.load_iris()\n",
    "X_iris, y_iris = iris.data, iris.target"
   ]
  },
  {
   "cell_type": "code",
   "execution_count": null,
   "metadata": {
    "collapsed": false,
    "nbpresent": {
     "id": "9e4eaf55-eb33-440c-bcc9-e043e3b1d1df"
    }
   },
   "outputs": [],
   "source": [
    "print(X_iris.shape, y_iris.shape)"
   ]
  },
  {
   "cell_type": "code",
   "execution_count": null,
   "metadata": {
    "collapsed": false,
    "nbpresent": {
     "id": "37bdc3cf-113e-410e-870d-87f99c485eb0"
    }
   },
   "outputs": [],
   "source": [
    "print(X_iris[0], y_iris[0])"
   ]
  },
  {
   "cell_type": "code",
   "execution_count": null,
   "metadata": {
    "collapsed": false,
    "nbpresent": {
     "id": "63a6f4f3-9fa6-4420-9636-4f0d1b12de36"
    }
   },
   "outputs": [],
   "source": [
    "from sklearn.cross_validation import train_test_split\n",
    "from sklearn import preprocessing\n",
    "# Get dataset with only the first two attributes\n",
    "X, y = X_iris[:, :2], y_iris\n",
    "# Split the dataset into a training and a testing set\n",
    "# Test set will be the 25% taken randomly\n",
    "X_train, X_test, y_train, y_test = train_test_split(X, y, test_size = 0.25, random_state = 33)"
   ]
  },
  {
   "cell_type": "code",
   "execution_count": null,
   "metadata": {
    "collapsed": false,
    "nbpresent": {
     "id": "cf03d7af-0988-46a9-b1cf-b22e5d9613c5"
    }
   },
   "outputs": [],
   "source": [
    "print(X_train.shape, y_train.shape)"
   ]
  },
  {
   "cell_type": "code",
   "execution_count": null,
   "metadata": {
    "collapsed": false,
    "nbpresent": {
     "id": "74a2a345-2b38-44fe-86ff-7b3395aa5d6a"
    }
   },
   "outputs": [],
   "source": [
    "print(X_train)"
   ]
  },
  {
   "cell_type": "code",
   "execution_count": null,
   "metadata": {
    "collapsed": true,
    "nbpresent": {
     "id": "8260a2bd-c3f7-4851-8e80-a8a6f9ac498e"
    }
   },
   "outputs": [],
   "source": [
    "# Standardize the features\n",
    "## ?? 理解preprocessing中的标准化\n",
    "scaler = preprocessing.StandardScaler().fit(X_train)\n",
    "X_train = scaler.transform(X_train)\n",
    "X_test = scaler.transform(X_test)"
   ]
  },
  {
   "cell_type": "code",
   "execution_count": null,
   "metadata": {
    "collapsed": false,
    "nbpresent": {
     "id": "8c5ff85e-006c-49e5-a542-31c4f562e256"
    }
   },
   "outputs": [],
   "source": [
    "print(X_train)"
   ]
  },
  {
   "cell_type": "code",
   "execution_count": null,
   "metadata": {
    "collapsed": false,
    "nbpresent": {
     "id": "91126e8e-f683-4889-ad6b-d0fd5c53054e"
    }
   },
   "outputs": [],
   "source": [
    "import matplotlib.pyplot as plt\n",
    "%matplotlib inline \n",
    "# 在Jupyter内显示图像\n",
    "colors = ['red', 'greenyellow', 'blue']\n",
    "for i in range(len(colors)):\n",
    "    xs = X_train[:, 0][y_train == i]\n",
    "    ys = X_train[:, 1][y_train == i]\n",
    "    plt.scatter(xs, ys, c = colors[i])\n",
    "plt.legend(iris.target_names)\n",
    "plt.xlabel('Sepal length')\n",
    "plt.ylabel('Sepal width')"
   ]
  },
  {
   "cell_type": "code",
   "execution_count": null,
   "metadata": {
    "collapsed": false,
    "nbpresent": {
     "id": "2dcf9e54-b025-4f3a-9ad4-cddeaf99cdda"
    }
   },
   "outputs": [],
   "source": [
    "from sklearn.linear_model import SGDClassifier\n",
    "clf = SGDClassifier()\n",
    "clf.fit(X_train, y_train)"
   ]
  },
  {
   "cell_type": "code",
   "execution_count": null,
   "metadata": {
    "collapsed": false,
    "nbpresent": {
     "id": "960606b7-a78a-48e9-9f8f-b0802171fa1b"
    }
   },
   "outputs": [],
   "source": [
    "print(clf.coef_)"
   ]
  },
  {
   "cell_type": "code",
   "execution_count": null,
   "metadata": {
    "collapsed": false,
    "nbpresent": {
     "id": "b9728cf8-2df7-4679-97f4-06e51d52bd92"
    }
   },
   "outputs": [],
   "source": [
    "print(clf.intercept_)"
   ]
  },
  {
   "cell_type": "code",
   "execution_count": null,
   "metadata": {
    "collapsed": false,
    "nbpresent": {
     "id": "a75aa0ec-5032-4f2c-8500-93fe04000238"
    }
   },
   "outputs": [],
   "source": [
    "x_min, x_max = X_train[:, 0].min() - .5, X_train[:, 0].max() + .5\n",
    "y_min, y_max = X_train[:, 1].min() - .5, X_train[:, 1].max() + .5\n",
    "xs = np.arange(x_min, x_max, 0.5)\n",
    "fig, axes = plt.subplots(1, 3)\n",
    "fig.set_size_inches(10, 6)\n",
    "for i in range(3):\n",
    "    axes[i].set_aspect('equal')\n",
    "    axes[i].set_title('Class ' + str(i) + ' versus the rest')\n",
    "    axes[i].set_xlabel('Sepal length')\n",
    "    axes[i].set_ylabel('Sepal width')\n",
    "    axes[i].set_xlim(x_min, x_max)\n",
    "    axes[i].set_ylim(y_min, y_max)\n",
    "    plt.sca(axes[i])\n",
    "    plt.scatter(X_train[:, 0], X_train[:, 1], c = y_train,\n",
    "               cmap = plt.cm.prism)\n",
    "    ys = (-clf.intercept_[i] - \n",
    "          xs * clf.coef_[i, 0]) / clf.coef_[i, 1]\n",
    "    plt.plot(xs, ys, hold=True)\n"
   ]
  },
  {
   "cell_type": "code",
   "execution_count": null,
   "metadata": {
    "collapsed": false,
    "nbpresent": {
     "id": "c1afa52d-6a32-4e86-aa22-e8e66c5ea495"
    }
   },
   "outputs": [],
   "source": [
    "# 测试新样本\n",
    "print(clf.predict(scaler.transform([[4.7, 3.1]])))"
   ]
  },
  {
   "cell_type": "code",
   "execution_count": null,
   "metadata": {
    "collapsed": false,
    "nbpresent": {
     "id": "33fa305a-7ad0-4a04-9d5c-8fcf7f91a868"
    }
   },
   "outputs": [],
   "source": [
    "print(clf.decision_function(scaler.transform([[4.7, 3.1]])))"
   ]
  },
  {
   "cell_type": "code",
   "execution_count": null,
   "metadata": {
    "collapsed": false,
    "nbpresent": {
     "id": "fb7be8c3-cb49-4e70-9b8c-526d6f1caed5"
    }
   },
   "outputs": [],
   "source": [
    "from sklearn import metrics\n",
    "y_train_pred = clf.predict(X_train)\n",
    "print(metrics.accuracy_score(y_train, y_train_pred))"
   ]
  },
  {
   "cell_type": "code",
   "execution_count": null,
   "metadata": {
    "collapsed": false,
    "nbpresent": {
     "id": "cd844de5-a7fb-45f1-85de-707650d3bbac"
    }
   },
   "outputs": [],
   "source": [
    "y_pred = clf.predict(X_test)\n",
    "print(metrics.accuracy_score(y_test, y_pred))"
   ]
  },
  {
   "cell_type": "code",
   "execution_count": null,
   "metadata": {
    "collapsed": false,
    "nbpresent": {
     "id": "b8b65661-c722-4c9e-9c4e-908619831e9d"
    }
   },
   "outputs": [],
   "source": [
    "print(metrics.classification_report(y_test, y_pred, target_names=iris.target_names))"
   ]
  },
  {
   "cell_type": "code",
   "execution_count": null,
   "metadata": {
    "collapsed": false,
    "nbpresent": {
     "id": "79a7f9b7-8d3a-4a5e-a2ce-ac9aee127240"
    }
   },
   "outputs": [],
   "source": [
    "print(metrics.confusion_matrix(y_test, y_pred))"
   ]
  },
  {
   "cell_type": "code",
   "execution_count": null,
   "metadata": {
    "collapsed": false,
    "nbpresent": {
     "id": "7ae4e992-baf8-4061-b095-2ec2818725fe"
    }
   },
   "outputs": [],
   "source": []
  },
  {
   "cell_type": "code",
   "execution_count": null,
   "metadata": {
    "collapsed": false,
    "nbpresent": {
     "id": "05dd81f4-ceb4-495f-9453-c809d7a3f4a2"
    }
   },
   "outputs": [],
   "source": [
    "from sklearn.cross_validation import cross_val_score, KFold\n",
    "from sklearn.pipeline import Pipeline\n",
    "from sklearn.preprocessing import StandardScaler\n",
    "# create a composite estimator made by a pipeline of the standarization and the linear model\n",
    "clf = Pipeline([\n",
    "        ('scaler', StandardScaler()),\n",
    "        ('linear_model', SGDClassifier())\n",
    "    ])\n",
    "# create a k-fold cross validation iterator of k=5 folds\n",
    "cv = KFold(X.shape[0], 5, shuffle=True, random_state=33)\n",
    "# by default the score used is the one returned by score method of the estimator (accuracy)\n",
    "scores = cross_val_score(clf, X, y, cv=cv)\n",
    "print(scores)"
   ]
  },
  {
   "cell_type": "code",
   "execution_count": null,
   "metadata": {
    "collapsed": false,
    "nbpresent": {
     "id": "b93e0987-906f-42cb-b925-dff3665831ae"
    }
   },
   "outputs": [],
   "source": [
    "from scipy.stats import sem\n",
    "def mean_score(scores):\n",
    "    return (\"Mean score: {0:.3f} (+/- {1:.3f})\"\n",
    "           ).format(np.mean(scores), sem(scores))\n",
    "print(mean_score(scores))"
   ]
  },
  {
   "cell_type": "code",
   "execution_count": null,
   "metadata": {
    "collapsed": true,
    "nbpresent": {
     "id": "57ef399c-9602-4c6e-836c-63c5c1b997fb"
    }
   },
   "outputs": [],
   "source": []
  }
 ],
 "metadata": {
  "anaconda-cloud": {},
  "kernelspec": {
   "display_name": "Python [default]",
   "language": "python",
   "name": "python3"
  },
  "language_info": {
   "codemirror_mode": {
    "name": "ipython",
    "version": 3
   },
   "file_extension": ".py",
   "mimetype": "text/x-python",
   "name": "python",
   "nbconvert_exporter": "python",
   "pygments_lexer": "ipython3",
   "version": "3.5.2"
  },
  "nbpresent": {
   "slides": {
    "22819fe8-472f-4852-88d0-9c50caaa77e6": {
     "id": "22819fe8-472f-4852-88d0-9c50caaa77e6",
     "prev": "b10a2608-0872-4b38-ab40-ec36fef0da5d",
     "regions": {
      "c90b4e09-0055-429a-bb61-f862837a0b15": {
       "attrs": {
        "height": 0.8,
        "width": 0.8,
        "x": 0.1,
        "y": 0.1
       },
       "content": {
        "cell": "960606b7-a78a-48e9-9f8f-b0802171fa1b",
        "part": "whole"
       },
       "id": "c90b4e09-0055-429a-bb61-f862837a0b15"
      }
     }
    },
    "2bd6e424-e87d-4dad-b6f3-ff9336e80e7a": {
     "id": "2bd6e424-e87d-4dad-b6f3-ff9336e80e7a",
     "prev": "d78c1690-f78b-494e-8142-9b81bf045e50",
     "regions": {
      "1a5d31db-8d1d-4f64-84a4-27d23c966060": {
       "attrs": {
        "height": 0.8,
        "width": 0.8,
        "x": 0.1,
        "y": 0.1
       },
       "content": {
        "cell": "91126e8e-f683-4889-ad6b-d0fd5c53054e",
        "part": "whole"
       },
       "id": "1a5d31db-8d1d-4f64-84a4-27d23c966060"
      }
     }
    },
    "2ecb85a2-8076-4541-a34e-ee15665fc51a": {
     "id": "2ecb85a2-8076-4541-a34e-ee15665fc51a",
     "prev": "3f4c89c7-8312-42d1-a80e-285b5651a767",
     "regions": {
      "69b62114-c42f-4ed3-acb8-6f569f3a1ca1": {
       "attrs": {
        "height": 0.8,
        "width": 0.8,
        "x": 0.1,
        "y": 0.1
       },
       "content": {
        "cell": "79a7f9b7-8d3a-4a5e-a2ce-ac9aee127240",
        "part": "whole"
       },
       "id": "69b62114-c42f-4ed3-acb8-6f569f3a1ca1"
      }
     }
    },
    "30d288e2-a2e0-4449-a93d-ed7f30bc4d09": {
     "id": "30d288e2-a2e0-4449-a93d-ed7f30bc4d09",
     "prev": "359144d5-8b07-495f-87a6-109ad839132b",
     "regions": {
      "a083ac11-306d-4207-a081-7fc193137ed3": {
       "attrs": {
        "height": 0.8,
        "width": 0.8,
        "x": 0.1,
        "y": 0.1
       },
       "content": {
        "cell": "cd844de5-a7fb-45f1-85de-707650d3bbac",
        "part": "whole"
       },
       "id": "a083ac11-306d-4207-a081-7fc193137ed3"
      }
     }
    },
    "322c6e1b-80fd-4b05-909f-30a3f0d4993c": {
     "id": "322c6e1b-80fd-4b05-909f-30a3f0d4993c",
     "prev": "efa419d0-d379-4de2-8845-027cc0221007",
     "regions": {
      "b59bbe69-a87d-4b02-be7b-303a0d26082c": {
       "attrs": {
        "height": 0.8,
        "width": 0.8,
        "x": 0.1,
        "y": 0.1
       },
       "content": {
        "cell": "8260a2bd-c3f7-4851-8e80-a8a6f9ac498e",
        "part": "whole"
       },
       "id": "b59bbe69-a87d-4b02-be7b-303a0d26082c"
      }
     }
    },
    "359144d5-8b07-495f-87a6-109ad839132b": {
     "id": "359144d5-8b07-495f-87a6-109ad839132b",
     "prev": "f1437f29-57c4-4427-94c6-f5eb7c176722",
     "regions": {
      "1ab71637-efd6-4015-88b8-9f2642da5332": {
       "attrs": {
        "height": 0.8,
        "width": 0.8,
        "x": 0.1,
        "y": 0.1
       },
       "content": {
        "cell": "fb7be8c3-cb49-4e70-9b8c-526d6f1caed5",
        "part": "whole"
       },
       "id": "1ab71637-efd6-4015-88b8-9f2642da5332"
      }
     }
    },
    "3f4c89c7-8312-42d1-a80e-285b5651a767": {
     "id": "3f4c89c7-8312-42d1-a80e-285b5651a767",
     "prev": "30d288e2-a2e0-4449-a93d-ed7f30bc4d09",
     "regions": {
      "f9ae8c68-0866-4880-878f-8827a9b56031": {
       "attrs": {
        "height": 0.8,
        "width": 0.8,
        "x": 0.1,
        "y": 0.1
       },
       "content": {
        "cell": "b8b65661-c722-4c9e-9c4e-908619831e9d",
        "part": "whole"
       },
       "id": "f9ae8c68-0866-4880-878f-8827a9b56031"
      }
     }
    },
    "3fa2ece8-a24d-4c49-9a77-66567064d1df": {
     "id": "3fa2ece8-a24d-4c49-9a77-66567064d1df",
     "prev": "a11dbf3a-b81c-4f35-a00b-6ce0e3cc3c90",
     "regions": {
      "7df6dfd0-a3dd-4ede-9db7-4133642c99a0": {
       "attrs": {
        "height": 0.8,
        "width": 0.8,
        "x": 0.1,
        "y": 0.1
       },
       "content": {
        "cell": "9e4eaf55-eb33-440c-bcc9-e043e3b1d1df",
        "part": "whole"
       },
       "id": "7df6dfd0-a3dd-4ede-9db7-4133642c99a0"
      }
     }
    },
    "508114f4-2d0c-49c6-b0f1-3833200af08b": {
     "id": "508114f4-2d0c-49c6-b0f1-3833200af08b",
     "prev": "dae57cb8-91c3-4418-950e-b269f7850c17",
     "regions": {
      "d1944493-d737-4c84-8686-83a222852411": {
       "attrs": {
        "height": 0.8,
        "width": 0.8,
        "x": 0.1,
        "y": 0.1
       },
       "content": {
        "cell": "a75aa0ec-5032-4f2c-8500-93fe04000238",
        "part": "whole"
       },
       "id": "d1944493-d737-4c84-8686-83a222852411"
      }
     }
    },
    "574b9597-17ae-4527-b705-7682e1cf13fe": {
     "id": "574b9597-17ae-4527-b705-7682e1cf13fe",
     "prev": "c7054077-c7e7-4c32-9124-3b6603c1d2e4",
     "regions": {
      "5cb0dddb-7859-44ed-b1fe-bad9a9117c7c": {
       "attrs": {
        "height": 0.8,
        "width": 0.8,
        "x": 0.1,
        "y": 0.1
       },
       "content": {
        "cell": "b93e0987-906f-42cb-b925-dff3665831ae",
        "part": "whole"
       },
       "id": "5cb0dddb-7859-44ed-b1fe-bad9a9117c7c"
      }
     }
    },
    "5f5e895f-91d5-4620-b377-454a779c300b": {
     "id": "5f5e895f-91d5-4620-b377-454a779c300b",
     "prev": "574b9597-17ae-4527-b705-7682e1cf13fe",
     "regions": {
      "6cb14b93-59d1-4eb2-880e-7351a96ac9b9": {
       "attrs": {
        "height": 0.8,
        "width": 0.8,
        "x": 0.1,
        "y": 0.1
       },
       "content": {
        "cell": "57ef399c-9602-4c6e-836c-63c5c1b997fb",
        "part": "whole"
       },
       "id": "6cb14b93-59d1-4eb2-880e-7351a96ac9b9"
      }
     }
    },
    "6c35025f-2728-4a70-90c6-b38e642b1c3d": {
     "id": "6c35025f-2728-4a70-90c6-b38e642b1c3d",
     "prev": "508114f4-2d0c-49c6-b0f1-3833200af08b",
     "regions": {
      "9b5ae075-d8f7-4f8f-a889-2fb4a3b9cf93": {
       "attrs": {
        "height": 0.8,
        "width": 0.8,
        "x": 0.1,
        "y": 0.1
       },
       "content": {
        "cell": "c1afa52d-6a32-4e86-aa22-e8e66c5ea495",
        "part": "whole"
       },
       "id": "9b5ae075-d8f7-4f8f-a889-2fb4a3b9cf93"
      }
     }
    },
    "76ad6465-c460-4e19-a0ae-9442be9140ff": {
     "id": "76ad6465-c460-4e19-a0ae-9442be9140ff",
     "prev": "7a92e910-d71b-421c-be84-dbbb3f664ad7",
     "regions": {
      "c291dfb3-754d-4d86-b2ea-306278115400": {
       "attrs": {
        "height": 0.8,
        "width": 0.8,
        "x": 0.1,
        "y": 0.1
       },
       "content": {
        "cell": "cf03d7af-0988-46a9-b1cf-b22e5d9613c5",
        "part": "whole"
       },
       "id": "c291dfb3-754d-4d86-b2ea-306278115400"
      }
     }
    },
    "7a92e910-d71b-421c-be84-dbbb3f664ad7": {
     "id": "7a92e910-d71b-421c-be84-dbbb3f664ad7",
     "prev": "fa754617-84a9-47df-961c-17c2d15ac533",
     "regions": {
      "0721a906-a0dd-4d19-af40-fe055a7ae0b1": {
       "attrs": {
        "height": 0.8,
        "width": 0.8,
        "x": 0.1,
        "y": 0.1
       },
       "content": {
        "cell": "63a6f4f3-9fa6-4420-9636-4f0d1b12de36",
        "part": "whole"
       },
       "id": "0721a906-a0dd-4d19-af40-fe055a7ae0b1"
      }
     }
    },
    "a11dbf3a-b81c-4f35-a00b-6ce0e3cc3c90": {
     "id": "a11dbf3a-b81c-4f35-a00b-6ce0e3cc3c90",
     "prev": "a6e110cc-8bf4-4a96-a0c8-4ce78839809e",
     "regions": {
      "a7681c82-ba31-4e4d-ae96-085324992f4e": {
       "attrs": {
        "height": 0.8,
        "width": 0.8,
        "x": 0.1,
        "y": 0.1
       },
       "content": {
        "cell": "ce356927-faeb-4b51-8009-16a417d5f490",
        "part": "whole"
       },
       "id": "a7681c82-ba31-4e4d-ae96-085324992f4e"
      }
     }
    },
    "a6e110cc-8bf4-4a96-a0c8-4ce78839809e": {
     "id": "a6e110cc-8bf4-4a96-a0c8-4ce78839809e",
     "prev": null,
     "regions": {
      "d7d1fd42-0d12-45b0-a48e-8fd563e8f361": {
       "attrs": {
        "height": 0.8,
        "width": 0.8,
        "x": 0.1,
        "y": 0.1
       },
       "content": {
        "cell": "19aa3280-5119-4ef7-aff7-a5d868e636ba",
        "part": "whole"
       },
       "id": "d7d1fd42-0d12-45b0-a48e-8fd563e8f361"
      }
     }
    },
    "b10a2608-0872-4b38-ab40-ec36fef0da5d": {
     "id": "b10a2608-0872-4b38-ab40-ec36fef0da5d",
     "prev": "2bd6e424-e87d-4dad-b6f3-ff9336e80e7a",
     "regions": {
      "67ed4c0d-6288-4829-ba5c-5e5ae52ecf0c": {
       "attrs": {
        "height": 0.8,
        "width": 0.8,
        "x": 0.1,
        "y": 0.1
       },
       "content": {
        "cell": "2dcf9e54-b025-4f3a-9ad4-cddeaf99cdda",
        "part": "whole"
       },
       "id": "67ed4c0d-6288-4829-ba5c-5e5ae52ecf0c"
      }
     }
    },
    "c7054077-c7e7-4c32-9124-3b6603c1d2e4": {
     "id": "c7054077-c7e7-4c32-9124-3b6603c1d2e4",
     "prev": "fff28370-41e3-4c4f-8e57-ec8731474966",
     "regions": {
      "cdf9f0dd-a750-461b-9e5d-c3ec4ed73159": {
       "attrs": {
        "height": 0.8,
        "width": 0.8,
        "x": 0.1,
        "y": 0.1
       },
       "content": {
        "cell": "05dd81f4-ceb4-495f-9453-c809d7a3f4a2",
        "part": "whole"
       },
       "id": "cdf9f0dd-a750-461b-9e5d-c3ec4ed73159"
      }
     }
    },
    "d78c1690-f78b-494e-8142-9b81bf045e50": {
     "id": "d78c1690-f78b-494e-8142-9b81bf045e50",
     "prev": "322c6e1b-80fd-4b05-909f-30a3f0d4993c",
     "regions": {
      "95429694-cace-4872-bc5d-a452e5d13f7c": {
       "attrs": {
        "height": 0.8,
        "width": 0.8,
        "x": 0.1,
        "y": 0.1
       },
       "content": {
        "cell": "8c5ff85e-006c-49e5-a542-31c4f562e256",
        "part": "whole"
       },
       "id": "95429694-cace-4872-bc5d-a452e5d13f7c"
      }
     }
    },
    "dae57cb8-91c3-4418-950e-b269f7850c17": {
     "id": "dae57cb8-91c3-4418-950e-b269f7850c17",
     "prev": "22819fe8-472f-4852-88d0-9c50caaa77e6",
     "regions": {
      "74973675-22da-4a6e-bcea-3d5385481b6b": {
       "attrs": {
        "height": 0.8,
        "width": 0.8,
        "x": 0.1,
        "y": 0.1
       },
       "content": {
        "cell": "b9728cf8-2df7-4679-97f4-06e51d52bd92",
        "part": "whole"
       },
       "id": "74973675-22da-4a6e-bcea-3d5385481b6b"
      }
     }
    },
    "efa419d0-d379-4de2-8845-027cc0221007": {
     "id": "efa419d0-d379-4de2-8845-027cc0221007",
     "prev": "76ad6465-c460-4e19-a0ae-9442be9140ff",
     "regions": {
      "6a1f4b76-b914-4fa1-b6c4-f6798c852064": {
       "attrs": {
        "height": 0.8,
        "width": 0.8,
        "x": 0.1,
        "y": 0.1
       },
       "content": {
        "cell": "74a2a345-2b38-44fe-86ff-7b3395aa5d6a",
        "part": "whole"
       },
       "id": "6a1f4b76-b914-4fa1-b6c4-f6798c852064"
      }
     }
    },
    "f1437f29-57c4-4427-94c6-f5eb7c176722": {
     "id": "f1437f29-57c4-4427-94c6-f5eb7c176722",
     "prev": "6c35025f-2728-4a70-90c6-b38e642b1c3d",
     "regions": {
      "30d68bd0-07ec-4ec4-ac13-28ddf528bf48": {
       "attrs": {
        "height": 0.8,
        "width": 0.8,
        "x": 0.1,
        "y": 0.1
       },
       "content": {
        "cell": "33fa305a-7ad0-4a04-9d5c-8fcf7f91a868",
        "part": "whole"
       },
       "id": "30d68bd0-07ec-4ec4-ac13-28ddf528bf48"
      }
     }
    },
    "fa754617-84a9-47df-961c-17c2d15ac533": {
     "id": "fa754617-84a9-47df-961c-17c2d15ac533",
     "prev": "3fa2ece8-a24d-4c49-9a77-66567064d1df",
     "regions": {
      "76700c57-aeca-4c07-a3cb-0504c2b812eb": {
       "attrs": {
        "height": 0.8,
        "width": 0.8,
        "x": 0.1,
        "y": 0.1
       },
       "content": {
        "cell": "37bdc3cf-113e-410e-870d-87f99c485eb0",
        "part": "whole"
       },
       "id": "76700c57-aeca-4c07-a3cb-0504c2b812eb"
      }
     }
    },
    "fff28370-41e3-4c4f-8e57-ec8731474966": {
     "id": "fff28370-41e3-4c4f-8e57-ec8731474966",
     "prev": "2ecb85a2-8076-4541-a34e-ee15665fc51a",
     "regions": {
      "7d260b0f-9bed-4e23-80bf-2bb0d35c6568": {
       "attrs": {
        "height": 0.8,
        "width": 0.8,
        "x": 0.1,
        "y": 0.1
       },
       "content": {
        "cell": "7ae4e992-baf8-4061-b095-2ec2818725fe",
        "part": "whole"
       },
       "id": "7d260b0f-9bed-4e23-80bf-2bb0d35c6568"
      }
     }
    }
   },
   "themes": {}
  }
 },
 "nbformat": 4,
 "nbformat_minor": 1
}
